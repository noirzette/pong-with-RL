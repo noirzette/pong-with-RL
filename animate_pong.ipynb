{
 "cells": [
  {
   "cell_type": "markdown",
   "id": "29e75c83-f3ba-440f-9ea3-754b409ae867",
   "metadata": {},
   "source": [
    "# Manim Animation"
   ]
  },
  {
   "cell_type": "code",
   "execution_count": 1,
   "id": "f0a0170f-34bb-45f7-9235-1a9958670a92",
   "metadata": {
    "tags": []
   },
   "outputs": [
    {
     "data": {
      "text/html": [
       "<pre style=\"white-space:pre;overflow-x:auto;line-height:normal;font-family:Menlo,'DejaVu Sans Mono',consolas,'Courier New',monospace\">Manim Community <span style=\"color: #008000; text-decoration-color: #008000\">v0.17.3</span>\n",
       "\n",
       "</pre>\n"
      ],
      "text/plain": [
       "Manim Community \u001b[32mv0.\u001b[0m\u001b[32m17.3\u001b[0m\n",
       "\n"
      ]
     },
     "metadata": {},
     "output_type": "display_data"
    }
   ],
   "source": [
    "from manim import (\n",
    "    BLUE,\n",
    "    LEFT,\n",
    "    RIGHT,\n",
    "    UP,\n",
    "    DOWN,\n",
    "    Circle,\n",
    "    Create,\n",
    "    Dot,\n",
    "    GrowFromCenter,\n",
    "    Homotopy,\n",
    "    Line,\n",
    "    MoveAlongPath,\n",
    "    ParametricFunction,\n",
    "    Rotating,\n",
    "    Scene,\n",
    "    Transform,\n",
    "    linear,\n",
    ")\n",
    "\n",
    "import numpy as np\n",
    "import scipy.interpolate"
   ]
  },
  {
   "cell_type": "code",
   "execution_count": 9,
   "id": "c789244e-a09d-40ec-b6fb-d181c57ac649",
   "metadata": {
    "tags": []
   },
   "outputs": [
    {
     "name": "stderr",
     "output_type": "stream",
     "text": [
      "                                                                                     \r"
     ]
    },
    {
     "data": {
      "text/html": [
       "<video src=\"media/jupyter/GrowDotToCircle@2024-06-07@17-00-39.mp4\" controls autoplay loop style=\"max-width: 60%;\"  >\n",
       "      Your browser does not support the <code>video</code> element.\n",
       "    </video>"
      ],
      "text/plain": [
       "<IPython.core.display.Video object>"
      ]
     },
     "metadata": {},
     "output_type": "display_data"
    }
   ],
   "source": [
    "%%manim --disable_caching -v ERROR GrowDotToCircle\n",
    "\n",
    "class GrowDotToCircle(Scene):\n",
    "    def construct(self):\n",
    "        circle = Circle()\n",
    "        circle.set_fill(BLUE, opacity=0.5)\n",
    "\n",
    "        self.add(circle)\n",
    "        self.wait(2)\n",
    "        self.remove(circle)\n",
    "        self.wait(2)\n",
    "        self.play(Create(circle))"
   ]
  },
  {
   "cell_type": "code",
   "execution_count": 10,
   "id": "d8840e8b-e57d-4533-a13b-52e9e1af1be1",
   "metadata": {
    "tags": []
   },
   "outputs": [
    {
     "name": "stderr",
     "output_type": "stream",
     "text": [
      "                                                                                     \r"
     ]
    },
    {
     "data": {
      "text/html": [
       "<video src=\"media/jupyter/PointMovingOnShapes@2024-06-07@17-02-42.mp4\" controls autoplay loop style=\"max-width: 60%;\"  >\n",
       "      Your browser does not support the <code>video</code> element.\n",
       "    </video>"
      ],
      "text/plain": [
       "<IPython.core.display.Video object>"
      ]
     },
     "metadata": {},
     "output_type": "display_data"
    }
   ],
   "source": [
    "%%manim PointMovingOnShapes\n",
    "\n",
    "class PointMovingOnShapes(Scene):\n",
    "    def construct(self):\n",
    "        circle = Circle(radius=1, color=BLUE)\n",
    "        dot = Dot()\n",
    "        dot2 = dot.copy().shift(RIGHT)\n",
    "        self.add(dot)\n",
    "\n",
    "        line = Line([3, 0, 0], [5, 0, 0])\n",
    "        self.add(line)\n",
    "\n",
    "        self.play(GrowFromCenter(circle))\n",
    "        self.play(Transform(dot, dot2))\n",
    "        self.play(MoveAlongPath(dot, circle), run_time=2, rate_func=linear)\n",
    "        self.play(Rotating(dot, about_point=[2, 0, 0]), run_time=1.5)\n",
    "        self.wait()"
   ]
  },
  {
   "cell_type": "code",
   "execution_count": 11,
   "id": "269bd5b5-6682-41ac-a8e2-cc13fa2f300b",
   "metadata": {
    "tags": []
   },
   "outputs": [],
   "source": [
    "def animate_pong(ts, positions, bounds):\n",
    "    \"\"\" Create a Pong game animator. \"\"\"\n",
    "\n",
    "    class AnimatePong(Scene):\n",
    "        def _bounding_line(self, bounds, start, end):\n",
    "            start = [bounds[start[0]], bounds[start[1]], 0.0]\n",
    "            end = [bounds[end[0]], bounds[end[1]], 0.0]\n",
    "            return Line(start=start, end=end, color=BLUE)\n",
    "        \n",
    "        def _bounding_lines(self, bounds):\n",
    "            return [\n",
    "                self._bounding_line(bounds, (0, 2), (0, 3)),\n",
    "                self._bounding_line(bounds, (0, 3), (1, 3)),\n",
    "                self._bounding_line(bounds, (1, 3), (1, 2)),\n",
    "                self._bounding_line(bounds, (1, 2), (0, 2)),\n",
    "            ]\n",
    "        \n",
    "        def construct(self):\n",
    "            t_range = [ts[0], ts[-1]]\n",
    "            spline_t = scipy.interpolate.make_interp_spline(ts, positions, k=1)\n",
    "            path = ParametricFunction(spline_t, t_range=t_range)\n",
    "            \n",
    "            # bounding box\n",
    "            self.add(*self._bounding_lines(bounds))\n",
    "\n",
    "            # pong ball\n",
    "            dot = Dot()\n",
    "            self.add(dot)\n",
    "            self.play(MoveAlongPath(dot, path))\n",
    "    \n",
    "    return AnimatePong"
   ]
  },
  {
   "cell_type": "code",
   "execution_count": 97,
   "id": "61c2770f-ed92-4d6b-9bbd-a727cc6dbc67",
   "metadata": {
    "tags": []
   },
   "outputs": [
    {
     "name": "stderr",
     "output_type": "stream",
     "text": [
      "                                                                                     \r"
     ]
    },
    {
     "data": {
      "text/html": [
       "<video src=\"media/jupyter/AnimatePong@2024-06-07@00-40-10.mp4\" controls autoplay loop style=\"max-width: 60%;\"  >\n",
       "      Your browser does not support the <code>video</code> element.\n",
       "    </video>"
      ],
      "text/plain": [
       "<IPython.core.display.Video object>"
      ]
     },
     "metadata": {},
     "output_type": "display_data"
    }
   ],
   "source": [
    "%%manim --disable_caching AnimatePong\n",
    "\n",
    "ts = np.linspace(0, 2 * np.pi, 100)\n",
    "positions = np.array([2 * np.sin(ts)**2, 2 * np.cos(ts)**2, 0.0 * ts]).T\n",
    "bounds = [2, 0, 0, 2]  # top, bottom, left, right\n",
    "\n",
    "AnimatePong = animate_pong(ts, positions, bounds)"
   ]
  },
  {
   "cell_type": "code",
   "execution_count": null,
   "id": "2c1daebb-2040-40f3-a767-12461c282775",
   "metadata": {},
   "outputs": [],
   "source": []
  }
 ],
 "metadata": {
  "kernelspec": {
   "display_name": "Python 3 (ipykernel)",
   "language": "python",
   "name": "python3"
  },
  "language_info": {
   "codemirror_mode": {
    "name": "ipython",
    "version": 3
   },
   "file_extension": ".py",
   "mimetype": "text/x-python",
   "name": "python",
   "nbconvert_exporter": "python",
   "pygments_lexer": "ipython3",
   "version": "3.11.3"
  }
 },
 "nbformat": 4,
 "nbformat_minor": 5
}
